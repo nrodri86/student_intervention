{
 "cells": [
  {
   "cell_type": "markdown",
   "metadata": {},
   "source": [
    "# Machine Learning Engineer Nanodegree\n",
    "## Supervised Learning\n",
    "## Project: Building a Student Intervention System"
   ]
  },
  {
   "cell_type": "markdown",
   "metadata": {},
   "source": [
    "Welcome to the second project of the Machine Learning Engineer Nanodegree! In this notebook, some template code has already been provided for you, and it will be your job to implement the additional functionality necessary to successfully complete this project. Sections that begin with **'Implementation'** in the header indicate that the following block of code will require additional functionality which you must provide. Instructions will be provided for each section and the specifics of the implementation are marked in the code block with a `'TODO'` statement. Please be sure to read the instructions carefully!\n",
    "\n",
    "In addition to implementing code, there will be questions that you must answer which relate to the project and your implementation. Each section where you will answer a question is preceded by a **'Question X'** header. Carefully read each question and provide thorough answers in the following text boxes that begin with **'Answer:'**. Your project submission will be evaluated based on your answers to each of the questions and the implementation you provide.  \n",
    "\n",
    ">**Note:** Code and Markdown cells can be executed using the **Shift + Enter** keyboard shortcut. In addition, Markdown cells can be edited by typically double-clicking the cell to enter edit mode."
   ]
  },
  {
   "cell_type": "markdown",
   "metadata": {},
   "source": [
    "### Question 1 - Classification vs. Regression\n",
    "*Your goal for this project is to identify students who might need early intervention before they fail to graduate. Which type of supervised learning problem is this, classification or regression? Why?*"
   ]
  },
  {
   "cell_type": "markdown",
   "metadata": {},
   "source": [
    "**Answer: **\n",
    "\n",
    "It is a classification type problem because the target variable it is going to be categorized as a discrete variable. Actually the variable is going to be binary where the two posbile outputs will be:  **Positive** for an intervention  and **negative** for a none intervention. "
   ]
  },
  {
   "cell_type": "markdown",
   "metadata": {},
   "source": [
    "## Exploring the Data\n",
    "Run the code cell below to load necessary Python libraries and load the student data. Note that the last column from this dataset, `'passed'`, will be our target label (whether the student graduated or didn't graduate). All other columns are features about each student."
   ]
  },
  {
   "cell_type": "code",
   "execution_count": 1,
   "metadata": {},
   "outputs": [
    {
     "name": "stdout",
     "output_type": "stream",
     "text": [
      "Student data read successfully!\n"
     ]
    }
   ],
   "source": [
    "# Import libraries\n",
    "import numpy as np\n",
    "import pandas as pd\n",
    "from time import time\n",
    "from sklearn.metrics import f1_score\n",
    "\n",
    "# Read student data\n",
    "student_data = pd.read_csv(\"student-data.csv\")\n",
    "print (\"Student data read successfully!\")"
   ]
  },
  {
   "cell_type": "markdown",
   "metadata": {},
   "source": [
    "### Implementation: Data Exploration\n",
    "Let's begin by investigating the dataset to determine how many students we have information on, and learn about the graduation rate among these students. In the code cell below, you will need to compute the following:\n",
    "- The total number of students, `n_students`.\n",
    "- The total number of features for each student, `n_features`.\n",
    "- The number of those students who passed, `n_passed`.\n",
    "- The number of those students who failed, `n_failed`.\n",
    "- The graduation rate of the class, `grad_rate`, in percent (%).\n"
   ]
  },
  {
   "cell_type": "code",
   "execution_count": 2,
   "metadata": {},
   "outputs": [
    {
     "data": {
      "text/plain": [
       "school        object\n",
       "sex           object\n",
       "age            int64\n",
       "address       object\n",
       "famsize       object\n",
       "Pstatus       object\n",
       "Medu           int64\n",
       "Fedu           int64\n",
       "Mjob          object\n",
       "Fjob          object\n",
       "reason        object\n",
       "guardian      object\n",
       "traveltime     int64\n",
       "studytime      int64\n",
       "failures       int64\n",
       "schoolsup     object\n",
       "famsup        object\n",
       "paid          object\n",
       "activities    object\n",
       "nursery       object\n",
       "higher        object\n",
       "internet      object\n",
       "romantic      object\n",
       "famrel         int64\n",
       "freetime       int64\n",
       "goout          int64\n",
       "Dalc           int64\n",
       "Walc           int64\n",
       "health         int64\n",
       "absences       int64\n",
       "passed        object\n",
       "dtype: object"
      ]
     },
     "execution_count": 2,
     "metadata": {},
     "output_type": "execute_result"
    }
   ],
   "source": [
    "student_data.dtypes\n"
   ]
  },
  {
   "cell_type": "code",
   "execution_count": 3,
   "metadata": {},
   "outputs": [
    {
     "data": {
      "text/html": [
       "<div>\n",
       "<style>\n",
       "    .dataframe thead tr:only-child th {\n",
       "        text-align: right;\n",
       "    }\n",
       "\n",
       "    .dataframe thead th {\n",
       "        text-align: left;\n",
       "    }\n",
       "\n",
       "    .dataframe tbody tr th {\n",
       "        vertical-align: top;\n",
       "    }\n",
       "</style>\n",
       "<table border=\"1\" class=\"dataframe\">\n",
       "  <thead>\n",
       "    <tr style=\"text-align: right;\">\n",
       "      <th></th>\n",
       "      <th>school</th>\n",
       "      <th>sex</th>\n",
       "      <th>age</th>\n",
       "      <th>address</th>\n",
       "      <th>famsize</th>\n",
       "      <th>Pstatus</th>\n",
       "      <th>Medu</th>\n",
       "      <th>Fedu</th>\n",
       "      <th>Mjob</th>\n",
       "      <th>Fjob</th>\n",
       "      <th>...</th>\n",
       "      <th>higher</th>\n",
       "      <th>internet</th>\n",
       "      <th>romantic</th>\n",
       "      <th>famrel</th>\n",
       "      <th>freetime</th>\n",
       "      <th>goout</th>\n",
       "      <th>Dalc</th>\n",
       "      <th>Walc</th>\n",
       "      <th>health</th>\n",
       "      <th>absences</th>\n",
       "    </tr>\n",
       "    <tr>\n",
       "      <th>passed</th>\n",
       "      <th></th>\n",
       "      <th></th>\n",
       "      <th></th>\n",
       "      <th></th>\n",
       "      <th></th>\n",
       "      <th></th>\n",
       "      <th></th>\n",
       "      <th></th>\n",
       "      <th></th>\n",
       "      <th></th>\n",
       "      <th></th>\n",
       "      <th></th>\n",
       "      <th></th>\n",
       "      <th></th>\n",
       "      <th></th>\n",
       "      <th></th>\n",
       "      <th></th>\n",
       "      <th></th>\n",
       "      <th></th>\n",
       "      <th></th>\n",
       "      <th></th>\n",
       "    </tr>\n",
       "  </thead>\n",
       "  <tbody>\n",
       "    <tr>\n",
       "      <th>no</th>\n",
       "      <td>130</td>\n",
       "      <td>130</td>\n",
       "      <td>130</td>\n",
       "      <td>130</td>\n",
       "      <td>130</td>\n",
       "      <td>130</td>\n",
       "      <td>130</td>\n",
       "      <td>130</td>\n",
       "      <td>130</td>\n",
       "      <td>130</td>\n",
       "      <td>...</td>\n",
       "      <td>130</td>\n",
       "      <td>130</td>\n",
       "      <td>130</td>\n",
       "      <td>130</td>\n",
       "      <td>130</td>\n",
       "      <td>130</td>\n",
       "      <td>130</td>\n",
       "      <td>130</td>\n",
       "      <td>130</td>\n",
       "      <td>130</td>\n",
       "    </tr>\n",
       "    <tr>\n",
       "      <th>yes</th>\n",
       "      <td>265</td>\n",
       "      <td>265</td>\n",
       "      <td>265</td>\n",
       "      <td>265</td>\n",
       "      <td>265</td>\n",
       "      <td>265</td>\n",
       "      <td>265</td>\n",
       "      <td>265</td>\n",
       "      <td>265</td>\n",
       "      <td>265</td>\n",
       "      <td>...</td>\n",
       "      <td>265</td>\n",
       "      <td>265</td>\n",
       "      <td>265</td>\n",
       "      <td>265</td>\n",
       "      <td>265</td>\n",
       "      <td>265</td>\n",
       "      <td>265</td>\n",
       "      <td>265</td>\n",
       "      <td>265</td>\n",
       "      <td>265</td>\n",
       "    </tr>\n",
       "  </tbody>\n",
       "</table>\n",
       "<p>2 rows × 30 columns</p>\n",
       "</div>"
      ],
      "text/plain": [
       "        school  sex  age  address  famsize  Pstatus  Medu  Fedu  Mjob  Fjob  \\\n",
       "passed                                                                        \n",
       "no         130  130  130      130      130      130   130   130   130   130   \n",
       "yes        265  265  265      265      265      265   265   265   265   265   \n",
       "\n",
       "          ...     higher  internet  romantic  famrel  freetime  goout  Dalc  \\\n",
       "passed    ...                                                                 \n",
       "no        ...        130       130       130     130       130    130   130   \n",
       "yes       ...        265       265       265     265       265    265   265   \n",
       "\n",
       "        Walc  health  absences  \n",
       "passed                          \n",
       "no       130     130       130  \n",
       "yes      265     265       265  \n",
       "\n",
       "[2 rows x 30 columns]"
      ]
     },
     "execution_count": 3,
     "metadata": {},
     "output_type": "execute_result"
    }
   ],
   "source": [
    "student_data.groupby(\"passed\").count()"
   ]
  },
  {
   "cell_type": "code",
   "execution_count": 4,
   "metadata": {},
   "outputs": [
    {
     "name": "stdout",
     "output_type": "stream",
     "text": [
      "Total number of students: 395\n",
      "Number of features: 30\n",
      "Number of students who passed: 265\n",
      "Number of students who failed: 130\n",
      "Graduation rate of the class: 67.09%\n"
     ]
    }
   ],
   "source": [
    "# TODO: Calculate number of students\n",
    "n_students = len(student_data)\n",
    " \n",
    "     \n",
    "# TODO: Calculate number of features\n",
    "n_features = len(student_data.columns)-1\n",
    "\n",
    "# TODO: Calculate passing students\n",
    "n_passed = len(student_data[student_data[\"passed\"]==\"yes\"])\n",
    "\n",
    "# TODO: Calculate failing students\n",
    "n_failed = len(student_data[student_data[\"passed\"]==\"no\"])\n",
    "\n",
    "# TODO: Calculate graduation rate\n",
    "grad_rate = n_passed/(n_students)*100\n",
    "\n",
    "# Print the results\n",
    "print (\"Total number of students: {}\".format(n_students))\n",
    "print (\"Number of features: {}\".format(n_features))\n",
    "print (\"Number of students who passed: {}\".format(n_passed))\n",
    "print (\"Number of students who failed: {}\".format(n_failed))\n",
    "print (\"Graduation rate of the class: {:.2f}%\".format(grad_rate))"
   ]
  },
  {
   "cell_type": "markdown",
   "metadata": {},
   "source": [
    "## Preparing the Data\n",
    "In this section, we will prepare the data for modeling, training and testing.\n",
    "\n",
    "### Identify feature and target columns\n",
    "It is often the case that the data you obtain contains non-numeric features. This can be a problem, as most machine learning algorithms expect numeric data to perform computations with.\n",
    "\n",
    "Run the code cell below to separate the student data into feature and target columns to see if any features are non-numeric."
   ]
  },
  {
   "cell_type": "code",
   "execution_count": 5,
   "metadata": {},
   "outputs": [
    {
     "name": "stdout",
     "output_type": "stream",
     "text": [
      "Feature columns:\n",
      "['school', 'sex', 'age', 'address', 'famsize', 'Pstatus', 'Medu', 'Fedu', 'Mjob', 'Fjob', 'reason', 'guardian', 'traveltime', 'studytime', 'failures', 'schoolsup', 'famsup', 'paid', 'activities', 'nursery', 'higher', 'internet', 'romantic', 'famrel', 'freetime', 'goout', 'Dalc', 'Walc', 'health', 'absences']\n",
      "\n",
      "Target column: passed\n",
      "\n",
      "Feature values:\n",
      "  school sex  age address famsize Pstatus  Medu  Fedu     Mjob      Fjob  \\\n",
      "0     GP   F   18       U     GT3       A     4     4  at_home   teacher   \n",
      "1     GP   F   17       U     GT3       T     1     1  at_home     other   \n",
      "2     GP   F   15       U     LE3       T     1     1  at_home     other   \n",
      "3     GP   F   15       U     GT3       T     4     2   health  services   \n",
      "4     GP   F   16       U     GT3       T     3     3    other     other   \n",
      "\n",
      "    ...    higher internet  romantic  famrel  freetime goout Dalc Walc health  \\\n",
      "0   ...       yes       no        no       4         3     4    1    1      3   \n",
      "1   ...       yes      yes        no       5         3     3    1    1      3   \n",
      "2   ...       yes      yes        no       4         3     2    2    3      3   \n",
      "3   ...       yes      yes       yes       3         2     2    1    1      5   \n",
      "4   ...       yes       no        no       4         3     2    1    2      5   \n",
      "\n",
      "  absences  \n",
      "0        6  \n",
      "1        4  \n",
      "2       10  \n",
      "3        2  \n",
      "4        4  \n",
      "\n",
      "[5 rows x 30 columns]\n"
     ]
    }
   ],
   "source": [
    "# Extract feature columns\n",
    "feature_cols = list(student_data.columns[:-1])\n",
    "\n",
    "# Extract target column 'passed'\n",
    "target_col = student_data.columns[-1] \n",
    "\n",
    "# Show the list of columns\n",
    "print (\"Feature columns:\\n{}\".format(feature_cols))\n",
    "print (\"\\nTarget column: {}\".format(target_col))\n",
    "\n",
    "# Separate the data into feature data and target data (X_all and y_all, respectively)\n",
    "X_all = student_data[feature_cols]\n",
    "y_all = student_data[target_col]\n",
    "\n",
    "# Show the feature information by printing the first five rows\n",
    "print (\"\\nFeature values:\")\n",
    "print (X_all.head())"
   ]
  },
  {
   "cell_type": "markdown",
   "metadata": {},
   "source": [
    "### Preprocess Feature Columns\n",
    "\n",
    "As you can see, there are several non-numeric columns that need to be converted! Many of them are simply `yes`/`no`, e.g. `internet`. These can be reasonably converted into `1`/`0` (binary) values.\n",
    "\n",
    "Other columns, like `Mjob` and `Fjob`, have more than two values, and are known as _categorical variables_. The recommended way to handle such a column is to create as many columns as possible values (e.g. `Fjob_teacher`, `Fjob_other`, `Fjob_services`, etc.), and assign a `1` to one of them and `0` to all others.\n",
    "\n",
    "These generated columns are sometimes called _dummy variables_, and we will use the [`pandas.get_dummies()`](http://pandas.pydata.org/pandas-docs/stable/generated/pandas.get_dummies.html?highlight=get_dummies#pandas.get_dummies) function to perform this transformation. Run the code cell below to perform the preprocessing routine discussed in this section."
   ]
  },
  {
   "cell_type": "code",
   "execution_count": 6,
   "metadata": {},
   "outputs": [
    {
     "name": "stdout",
     "output_type": "stream",
     "text": [
      "Processed feature columns (48 total features):\n",
      "['school_GP', 'school_MS', 'sex_F', 'sex_M', 'age', 'address_R', 'address_U', 'famsize_GT3', 'famsize_LE3', 'Pstatus_A', 'Pstatus_T', 'Medu', 'Fedu', 'Mjob_at_home', 'Mjob_health', 'Mjob_other', 'Mjob_services', 'Mjob_teacher', 'Fjob_at_home', 'Fjob_health', 'Fjob_other', 'Fjob_services', 'Fjob_teacher', 'reason_course', 'reason_home', 'reason_other', 'reason_reputation', 'guardian_father', 'guardian_mother', 'guardian_other', 'traveltime', 'studytime', 'failures', 'schoolsup', 'famsup', 'paid', 'activities', 'nursery', 'higher', 'internet', 'romantic', 'famrel', 'freetime', 'goout', 'Dalc', 'Walc', 'health', 'absences']\n"
     ]
    }
   ],
   "source": [
    "def preprocess_features(X):\n",
    "    ''' Preprocesses the student data and converts non-numeric binary variables into\n",
    "        binary (0/1) variables. Converts categorical variables into dummy variables. '''\n",
    "    \n",
    "    # Initialize new output DataFrame\n",
    "    output = pd.DataFrame(index = X.index)\n",
    "\n",
    "    # Investigate each feature column for the data\n",
    "    for col, col_data in X.iteritems():\n",
    "        \n",
    "        # If data type is non-numeric, replace all yes/no values with 1/0\n",
    "        if col_data.dtype == object:\n",
    "            col_data = col_data.replace(['yes', 'no'], [1, 0])\n",
    "\n",
    "        # If data type is categorical, convert to dummy variables\n",
    "        if col_data.dtype == object:\n",
    "            # Example: 'school' => 'school_GP' and 'school_MS'\n",
    "            col_data = pd.get_dummies(col_data, prefix = col)  \n",
    "        \n",
    "        # Collect the revised columns\n",
    "        output = output.join(col_data)\n",
    "    \n",
    "    return output\n",
    "\n",
    "X_all = preprocess_features(X_all)\n",
    "print (\"Processed feature columns ({} total features):\\n{}\".format(len(X_all.columns), list(X_all.columns)))"
   ]
  },
  {
   "cell_type": "markdown",
   "metadata": {},
   "source": [
    "### Implementation: Training and Testing Data Split\n",
    "So far, we have converted all _categorical_ features into numeric values. For the next step, we split the data (both features and corresponding labels) into training and test sets. In the following code cell below, you will need to implement the following:\n",
    "- Randomly shuffle and split the data (`X_all`, `y_all`) into training and testing subsets.\n",
    "  - Use 300 training points (approximately 75%) and 95 testing points (approximately 25%).\n",
    "  - Set a `random_state` for the function(s) you use, if provided.\n",
    "  - Store the results in `X_train`, `X_test`, `y_train`, and `y_test`."
   ]
  },
  {
   "cell_type": "code",
   "execution_count": 7,
   "metadata": {},
   "outputs": [
    {
     "name": "stdout",
     "output_type": "stream",
     "text": [
      "Training set has 300 samples.\n",
      "Testing set has 95 samples.\n"
     ]
    }
   ],
   "source": [
    "# TODO: Import any additional functionality you may need here\n",
    "from sklearn.model_selection import train_test_split\n",
    "\n",
    "# TODO: Set the number of training points\n",
    "num_train = 300\n",
    "\n",
    "\n",
    "# Set the number of testing points\n",
    "num_test = X_all.shape[0] - num_train\n",
    "\n",
    "# TODO: Shuffle and split the dataset into the number of training and testing points above\n",
    "X_train, X_test, y_train, y_test = train_test_split( X_all, y_all, test_size=num_test/X_all.shape[0], random_state=0)\n",
    "\n",
    "\n",
    "# Show the results of the split\n",
    "print (\"Training set has {} samples.\".format(X_train.shape[0]))\n",
    "print (\"Testing set has {} samples.\".format(X_test.shape[0]))"
   ]
  },
  {
   "cell_type": "markdown",
   "metadata": {},
   "source": [
    "## Training and Evaluating Models\n",
    "In this section, you will choose 3 supervised learning models that are appropriate for this problem and available in `scikit-learn`. You will first discuss the reasoning behind choosing these three models by considering what you know about the data and each model's strengths and weaknesses. You will then fit the model to varying sizes of training data (100 data points, 200 data points, and 300 data points) and measure the F<sub>1</sub> score. You will need to produce three tables (one for each model) that shows the training set size, training time, prediction time, F<sub>1</sub> score on the training set, and F<sub>1</sub> score on the testing set.\n",
    "\n",
    "**The following supervised learning models are currently available in** [`scikit-learn`](http://scikit-learn.org/stable/supervised_learning.html) **that you may choose from:**\n",
    "- Gaussian Naive Bayes (GaussianNB)\n",
    "- Decision Trees\n",
    "- Ensemble Methods (Bagging, AdaBoost, Random Forest, Gradient Boosting)\n",
    "- K-Nearest Neighbors (KNeighbors)\n",
    "- Stochastic Gradient Descent (SGDC)\n",
    "- Support Vector Machines (SVM)\n",
    "- Logistic Regression"
   ]
  },
  {
   "cell_type": "markdown",
   "metadata": {},
   "source": [
    "### Question 2 - Model Application\n",
    "*List three supervised learning models that are appropriate for this problem. For each model chosen*\n",
    "- Describe one real-world application in industry where the model can be applied. *(You may need to do a small bit of research for this — give references!)* \n",
    "- What are the strengths of the model; when does it perform well? \n",
    "- What are the weaknesses of the model; when does it perform poorly?\n",
    "- What makes this model a good candidate for the problem, given what you know about the data?"
   ]
  },
  {
   "cell_type": "markdown",
   "metadata": {},
   "source": [
    "**Answer: **\n",
    "\n",
    "•\tDecision Trees\n",
    "•\tEnsemble Methods - AdaBoost\n",
    "•\tSupport Vector Machines (SVM)\n",
    "\n",
    "\n",
    "## Decision Trees\n",
    "\t\n",
    "** Describe one real-world application in industry where the model can be applied. *(You may need to do a small bit of research for this — give references!)* **\n",
    "\n",
    "\n",
    "It is being applied for fraud detection in several domains.  For instance in the energy consumption sector  [1], the researchers use decision trees to learn individual behaviour per costumer to create an energy consumption model. The model uses the decision rules to predict the expected energy based on the feature set  (year, day of the week, time), then, it is  compute the root mean squared error as an indicator for fraudulent activity. Any value  above a defined threshold indicates a plausible fraud. \n",
    "\n",
    "** What are the strengths of the model; when does it perform well? **\n",
    "\n",
    "\n",
    "* The trees can be visualised and the learned rules can be used to address conclusions.\n",
    "* Usually other ML algorithms needs data normalisation, dummy variables need to be created and blank values to be removed decision trees not. It can handle categorical data and numerical data.\n",
    "* It can handle multiple outputs. [2]\n",
    "\n",
    "\n",
    "** What are the weaknesses of the model; when does it perform poorly? **\n",
    "\n",
    "\n",
    "* It can create complex trees that overfits the data.  \n",
    "* Small variations in the data might result in a completely different tree generated.\n",
    "* The problem of achieving an optimal decision tree is known to be NP complete . So,  some Decision Trees algorithms uses heuristic algorithms where locally optimal decisions are made at each node.\n",
    "* For some concepts like XOR, parity or multiplexer problems, decision trees are not suitable. [2]\n",
    "\n",
    "\n",
    "** What makes this model a good candidate for the problem, given what you know about the data? **\n",
    "\n",
    "\n",
    "I believe for some features of the dataset , you can imply some rules base on common judgement. Therefore, the decisions tress are able to help us to reinforce those assumptions.  For example the feature traveltime can have a correlation with the low academic performance since the student is consuming available time to travel instead of studying. Obviously this cannot be conclusive but reasoning   might lead this kind of conclusions. Decision trees can be visualised therefore  it would help us to lead some conclusions on the causes of a bad academic performance. Actually, for some stakeholder these conclusions may be more valuable than the prediction task. \n",
    "\n",
    "## Ensemble Methods - AdaBoost \n",
    "\n",
    "** Describe one real-world application in industry where the model can be applied. *(You may need to do a small bit of research for this — give references!)* ** \n",
    "\n",
    "Adaboost is being using widely in the financial sector for forecasting the corporate performance for several companies belonging to S&P 500 using  the accounting and the corporate governance features [3]. In automated trading Adaboost is also present using the well known technical analysis indicators as features. The resulting model suggests a short or long position [4]. \n",
    "\n",
    "** What are the strengths of the model; when does it perform well? **\n",
    "\n",
    "* It works as an algorithm that you use it as a wrapper for other classifiers.\n",
    "* It has no parameters to tune (except for the number of rounds T).\n",
    "* It has a set of theoretical guarantees. [6]\n",
    "\n",
    "** What are the weaknesses of the model; when does it perform poorly? **\n",
    "\n",
    "* The performance is dependent on the data and the weak learner. It can fail given insufficient data or complex weak learners.\n",
    "* It is susceptible to noise. \n",
    "* The model can be complex and demand memory since it is a set of submodels. [6]\n",
    "\n",
    "** What makes this model a good candidate for the problem, given what you know about the data? **\n",
    "\n",
    "According to my research, AdaBoost with decision trees performs pretty well without heavy configuration for general  datasets. The ability to choose a weak learner, give us more tools to play with the data and have a range of alternatives to address underfitting or overfitting.   \n",
    "\n",
    "\n",
    "## Support Vector Machines (SVM) \n",
    "\n",
    "** Describe one real-world application in industry where the model can be applied. *(You may need to do a small bit of research for this — give references!)* **\n",
    "\n",
    "Support vectors machines are being used widely in medicine for disease diagnosis. For instance for breast cancer recognition where each tumor   is labeled to be malign or benign [5].  \n",
    "\n",
    "** What are the strengths of the model; when does it perform well? **\n",
    "\n",
    "* Effective in high dimensional spaces.\n",
    "* Uses a subset of training points in the decision function (Called support vectors).\n",
    "* You can use kernel functions so the algorithm can adapt to several datasets[2].\n",
    "\n",
    "** What are the weaknesses of the model; when does it perform poorly? **\n",
    "\n",
    "* Do not provide probability estimates. \n",
    "* Selecting a proper kernel function can be challenging[2].\n",
    "\n",
    "** What makes this model a good candidate for the problem, given what you know about the data? **\n",
    "\n",
    "Since we have high dimensionality on the data therefore the SVM can perform pretty well. Also because of the nature of the algorithms of SVM, they are recognised for not overfitting. \n",
    "\n",
    "** References: **\n",
    "\n",
    "[1] C. Cody, V. Ford and A. Siraj, \"Decision Tree Learning for Fraud Detection in Consumer Energy Consumption,\" 2015 IEEE 14th International Conference on Machine Learning and Applications (ICMLA), Miami, FL, 2015, pp. 1175-1179.\n",
    "\n",
    "[2] Fabian Pedregosa, Gaël Varoquaux, Alexandre Gramfort, Vincent Michel, Bertrand Thirion, Olivier Grisel, Mathieu Blondel, Peter Prettenhofer, Ron Weiss, Vincent Dubourg, Jake Vanderplas, Alexandre Passos, David Cournapeau, Matthieu Brucher, Matthieu Perrot, Édouard Duchesnay; “Scikit-learn: Machine Learning in Python”\n",
    "12(Oct):2825−2830, 2011.\n",
    "[3]Creamer, Germán G. and Freund, Yoav, Using Boosting for Financial Analysis and Performance Prediction: Application To S&P 500 Companies, Latin American ADRs and Banks (2010). Computational Economics, Vol. 36, No. 2, pp. 133-151. Available at SSRN: https://ssrn.com/abstract=1604998\n",
    "\n",
    "[4]Creamer, Germán G. and Freund, Yoav, Automated Trading with Boosting and Expert Weighting (April 1, 2010). Quantitative Finance, Vol. 4, No. 10, pp. 401–420 . Available at SSRN: https://ssrn.com/abstract=937847\n",
    "\n",
    "\n",
    "[5]BichenZhengSang WonYoonSarah S.Lam “Breast cancer diagnosis based on feature extraction using a hybrid of K-means and support vector machine algorithms” Expert Systems with Applications, Volume 41, Issue 4, Part 1, March 2014, Pages 1476-1482\n",
    "\n",
    "[6] Robert E. Schapire and Yoav Freund “Boosting:Foundations and Algorithms” 2012"
   ]
  },
  {
   "cell_type": "markdown",
   "metadata": {},
   "source": [
    "### Setup\n",
    "Run the code cell below to initialize three helper functions which you can use for training and testing the three supervised learning models you've chosen above. The functions are as follows:\n",
    "- `train_classifier` - takes as input a classifier and training data and fits the classifier to the data.\n",
    "- `predict_labels` - takes as input a fit classifier, features, and a target labeling and makes predictions using the F<sub>1</sub> score.\n",
    "- `train_predict` - takes as input a classifier, and the training and testing data, and performs `train_clasifier` and `predict_labels`.\n",
    " - This function will report the F<sub>1</sub> score for both the training and testing data separately."
   ]
  },
  {
   "cell_type": "code",
   "execution_count": 8,
   "metadata": {},
   "outputs": [],
   "source": [
    "def train_classifier(clf, X_train, y_train):\n",
    "    ''' Fits a classifier to the training data. '''\n",
    "    \n",
    "    # Start the clock, train the classifier, then stop the clock\n",
    "    start = time()\n",
    "    clf.fit(X_train, y_train)\n",
    "    end = time()\n",
    "    \n",
    "    # Print the results\n",
    "    print (\"Trained model in {:.4f} seconds\".format(end - start))\n",
    "\n",
    "    \n",
    "def predict_labels(clf, features, target):\n",
    "    ''' Makes predictions using a fit classifier based on F1 score. '''\n",
    "    \n",
    "    # Start the clock, make predictions, then stop the clock\n",
    "    start = time()\n",
    "    y_pred = clf.predict(features)\n",
    "    end = time()\n",
    "    \n",
    "    # Print and return results\n",
    "    print (\"Made predictions in {:.4f} seconds.\".format(end - start))\n",
    "    return f1_score(target.values, y_pred, pos_label='yes')\n",
    "\n",
    "\n",
    "def train_predict(clf, X_train, y_train, X_test, y_test):\n",
    "    ''' Train and predict using a classifer based on F1 score. '''\n",
    "    \n",
    "    # Indicate the classifier and the training set size\n",
    "    print (\"Training a {} using a training set size of {}. . .\".format(clf.__class__.__name__, len(X_train)))\n",
    "    \n",
    "    # Train the classifier\n",
    "    train_classifier(clf, X_train, y_train)\n",
    "    \n",
    "    # Print the results of prediction for both training and testing\n",
    "    print (\"F1 score for training set: {:.4f}.\".format(predict_labels(clf, X_train, y_train)))\n",
    "    print (\"F1 score for test set: {:.4f}.\".format(predict_labels(clf, X_test, y_test)))"
   ]
  },
  {
   "cell_type": "markdown",
   "metadata": {},
   "source": [
    "### Implementation: Model Performance Metrics\n",
    "With the predefined functions above, you will now import the three supervised learning models of your choice and run the `train_predict` function for each one. Remember that you will need to train and predict on each classifier for three different training set sizes: 100, 200, and 300. Hence, you should expect to have 9 different outputs below — 3 for each model using the varying training set sizes. In the following code cell, you will need to implement the following:\n",
    "- Import the three supervised learning models you've discussed in the previous section.\n",
    "- Initialize the three models and store them in `clf_A`, `clf_B`, and `clf_C`.\n",
    " - Use a `random_state` for each model you use, if provided.\n",
    " - **Note:** Use the default settings for each model — you will tune one specific model in a later section.\n",
    "- Create the different training set sizes to be used to train each model.\n",
    " - *Do not reshuffle and resplit the data! The new training points should be drawn from `X_train` and `y_train`.*\n",
    "- Fit each model with each training set size and make predictions on the test set (9 in total).  \n",
    "**Note:** Three tables are provided after the following code cell which can be used to store your results."
   ]
  },
  {
   "cell_type": "code",
   "execution_count": 9,
   "metadata": {},
   "outputs": [
    {
     "data": {
      "text/plain": [
       "63      no\n",
       "245    yes\n",
       "154    yes\n",
       "311    yes\n",
       "81     yes\n",
       "344    yes\n",
       "336    yes\n",
       "124     no\n",
       "250     no\n",
       "89      no\n",
       "181    yes\n",
       "21     yes\n",
       "170     no\n",
       "206     no\n",
       "173     no\n",
       "49      no\n",
       "358    yes\n",
       "196    yes\n",
       "92      no\n",
       "221     no\n",
       "218     no\n",
       "355     no\n",
       "134     no\n",
       "175     no\n",
       "22     yes\n",
       "241    yes\n",
       "122    yes\n",
       "176    yes\n",
       "162     no\n",
       "145    yes\n",
       "      ... \n",
       "243    yes\n",
       "115    yes\n",
       "265    yes\n",
       "72      no\n",
       "333     no\n",
       "25      no\n",
       "165    yes\n",
       "337     no\n",
       "379    yes\n",
       "174     no\n",
       "381     no\n",
       "39     yes\n",
       "193    yes\n",
       "314    yes\n",
       "88     yes\n",
       "70     yes\n",
       "87     yes\n",
       "292    yes\n",
       "242     no\n",
       "277     no\n",
       "211    yes\n",
       "9      yes\n",
       "359    yes\n",
       "195    yes\n",
       "251    yes\n",
       "323    yes\n",
       "192     no\n",
       "117    yes\n",
       "47     yes\n",
       "172    yes\n",
       "Name: passed, Length: 300, dtype: object"
      ]
     },
     "execution_count": 9,
     "metadata": {},
     "output_type": "execute_result"
    }
   ],
   "source": [
    "y_train\n"
   ]
  },
  {
   "cell_type": "code",
   "execution_count": 10,
   "metadata": {},
   "outputs": [
    {
     "name": "stdout",
     "output_type": "stream",
     "text": [
      "\n",
      "\n",
      "Training a DecisionTreeClassifier using a training set size of 100. . .\n",
      "Trained model in 0.0024 seconds\n",
      "Made predictions in 0.0005 seconds.\n",
      "F1 score for training set: 1.0000.\n",
      "Made predictions in 0.0004 seconds.\n",
      "F1 score for test set: 0.6496.\n",
      "\n",
      "\n",
      "Training a DecisionTreeClassifier using a training set size of 200. . .\n",
      "Trained model in 0.0018 seconds\n",
      "Made predictions in 0.0004 seconds.\n",
      "F1 score for training set: 1.0000.\n",
      "Made predictions in 0.0003 seconds.\n",
      "F1 score for test set: 0.7231.\n",
      "\n",
      "\n",
      "Training a DecisionTreeClassifier using a training set size of 300. . .\n",
      "Trained model in 0.0022 seconds\n",
      "Made predictions in 0.0004 seconds.\n",
      "F1 score for training set: 1.0000.\n",
      "Made predictions in 0.0005 seconds.\n",
      "F1 score for test set: 0.7107.\n",
      "\n",
      "\n",
      "Training a AdaBoostClassifier using a training set size of 100. . .\n",
      "Trained model in 0.0780 seconds\n",
      "Made predictions in 0.0142 seconds.\n",
      "F1 score for training set: 1.0000.\n",
      "Made predictions in 0.0059 seconds.\n",
      "F1 score for test set: 0.6614.\n",
      "\n",
      "\n",
      "Training a AdaBoostClassifier using a training set size of 200. . .\n",
      "Trained model in 0.0885 seconds\n",
      "Made predictions in 0.0074 seconds.\n",
      "F1 score for training set: 1.0000.\n",
      "Made predictions in 0.0089 seconds.\n",
      "F1 score for test set: 0.7368.\n",
      "\n",
      "\n",
      "Training a AdaBoostClassifier using a training set size of 300. . .\n",
      "Trained model in 0.1022 seconds\n",
      "Made predictions in 0.0074 seconds.\n",
      "F1 score for training set: 0.9879.\n",
      "Made predictions in 0.0065 seconds.\n",
      "F1 score for test set: 0.7121.\n",
      "\n",
      "\n",
      "Training a SVC using a training set size of 100. . .\n",
      "Trained model in 0.0042 seconds\n",
      "Made predictions in 0.0011 seconds.\n",
      "F1 score for training set: 0.8591.\n",
      "Made predictions in 0.0010 seconds.\n",
      "F1 score for test set: 0.7838.\n",
      "\n",
      "\n",
      "Training a SVC using a training set size of 200. . .\n",
      "Trained model in 0.0034 seconds\n",
      "Made predictions in 0.0022 seconds.\n",
      "F1 score for training set: 0.8693.\n",
      "Made predictions in 0.0012 seconds.\n",
      "F1 score for test set: 0.7755.\n",
      "\n",
      "\n",
      "Training a SVC using a training set size of 300. . .\n",
      "Trained model in 0.0061 seconds\n",
      "Made predictions in 0.0044 seconds.\n",
      "F1 score for training set: 0.8692.\n",
      "Made predictions in 0.0016 seconds.\n",
      "F1 score for test set: 0.7586.\n"
     ]
    }
   ],
   "source": [
    "# TODO: Import the three supervised learning models from sklearn\n",
    "from sklearn.tree import DecisionTreeClassifier\n",
    "from sklearn.ensemble import AdaBoostClassifier\n",
    "from sklearn.svm import SVC\n",
    "\n",
    "# TODO: Initialize the three models\n",
    "clf_A = DecisionTreeClassifier( random_state=1)\n",
    "clf_B = AdaBoostClassifier( DecisionTreeClassifier(max_depth=2), random_state=1)\n",
    "clf_C = SVC(random_state=1)\n",
    "\n",
    "classifiers=[clf_A,clf_B,clf_C]\n",
    "# TODO: Set up the training set sizes\n",
    "#X_train_100 = X_train.iloc[:100]\n",
    "#y_train_100 = y_train.iloc[:100]\n",
    "\n",
    "#X_train_200 = X_train.iloc[:200]\n",
    "#y_train_200 = y_train.iloc[:200]\n",
    "\n",
    "#X_train_300 = X_train.iloc[:300]\n",
    "#y_train_300 = y_train.iloc[:300]\n",
    "\n",
    "train_datasets=[]\n",
    "\n",
    "# TODO: Execute the 'train_predict' function for each classifier and each training set size\n",
    "for classifier in classifiers:\n",
    "    for  train_len in np.linspace(100,300,3):\n",
    "        print(\"\\n\")\n",
    "        train_predict(classifier, X_train.iloc[:int(train_len)], y_train.iloc[:int(train_len)], X_test, y_test)"
   ]
  },
  {
   "cell_type": "code",
   "execution_count": 11,
   "metadata": {},
   "outputs": [
    {
     "data": {
      "text/plain": [
       "array(['no', 'yes'], dtype=object)"
      ]
     },
     "execution_count": 11,
     "metadata": {},
     "output_type": "execute_result"
    }
   ],
   "source": [
    " clf_A.predict( X_train.iloc[:2])"
   ]
  },
  {
   "cell_type": "markdown",
   "metadata": {},
   "source": [
    "### Tabular Results\n",
    "Edit the cell below to see how a table can be designed in [Markdown](https://github.com/adam-p/markdown-here/wiki/Markdown-Cheatsheet#tables). You can record your results from above in the tables provided."
   ]
  },
  {
   "cell_type": "markdown",
   "metadata": {},
   "source": [
    "** Classifer 1 - DecisionTreeClassifier**  \n",
    "\n",
    "| Training Set Size | Training Time (seconds)| Prediction Time (test)(seconds) | F1 Score (train) | F1 Score (test) |\n",
    "| :---------------: | :---------------------: | :--------------------: | :--------------: | :-------------: |\n",
    "| 100               |0.0018|0.0004|1|0.6496|\n",
    "| 200               |0.0024|0.0004|1|0.7231|\n",
    "| 300               |0.0028|0.0005|1|0.71|\n",
    "\n",
    "** Classifer 2 - AdaBoostClassifier**  \n",
    "\n",
    "| Training Set Size | Training Time (seconds) | Prediction Time (test)(seconds) | F1 Score (train) | F1 Score (test) |\n",
    "| :---------------: | :---------------------: | :--------------------: | :--------------: | :-------------: |\n",
    "| 100               |0.0845|0.0074|1|0.6614|\n",
    "| 200               |0.0865|0.0080|1|0.7338|\n",
    "| 300               |0.1057|0.0065|0.9879|0.721|\n",
    "\n",
    "** Classifer 3 - SVC**  \n",
    "\n",
    "| Training Set Size | Training Time (seconds) | Prediction Time (test)(seconds) | F1 Score (train) | F1 Score (test) |\n",
    "| :---------------: | :---------------------: | :--------------------: | :--------------: | :-------------: |\n",
    "| 100               |0.0016|0.0009|0.8591|0.7838|\n",
    "| 200               |0.0037|0.0013|0.8693|0.7755|\n",
    "| 300               |0.0058|0.0017|0.8692|0.7586|"
   ]
  },
  {
   "cell_type": "markdown",
   "metadata": {},
   "source": [
    "## Choosing the Best Model\n",
    "In this final section, you will choose from the three supervised learning models the *best* model to use on the student data. You will then perform a grid search optimization for the model over the entire training set (`X_train` and `y_train`) by tuning at least one parameter to improve upon the untuned model's F<sub>1</sub> score. "
   ]
  },
  {
   "cell_type": "markdown",
   "metadata": {},
   "source": [
    "### Question 3 - Choosing the Best Model\n",
    "*Based on the experiments you performed earlier, in one to two paragraphs, explain to the board of supervisors what single model you chose as the best model. Which model is generally the most appropriate based on the available data, limited resources, cost, and performance?*"
   ]
  },
  {
   "cell_type": "markdown",
   "metadata": {},
   "source": [
    "**Answer: **\n",
    "\n",
    "According to the previous experiment, the best model is the SVC because it was the model which has the best F1 score on the test dataset. Despite the other models  achieved the 1 score on the training dataset, the score was lower than SVC. SVC had a good performance learning on the training dataset and on the prediction time; it was slightly lower than Decision Tree Classifier and significantly better than Adaboost. The SVC model can be tuned to achieve better results based on the available data, the cost and performance.\n"
   ]
  },
  {
   "cell_type": "markdown",
   "metadata": {},
   "source": [
    "### Question 4 - Model in Layman's Terms\n",
    "*In one to two paragraphs, explain to the board of directors in layman's terms how the final model chosen is supposed to work. Be sure that you are describing the major qualities of the model, such as how the model is trained and how the model makes a prediction. Avoid using advanced mathematical or technical jargon, such as describing equations or discussing the algorithm implementation.*"
   ]
  },
  {
   "cell_type": "markdown",
   "metadata": {},
   "source": [
    "**Answer: **\n",
    "\n",
    "Support Vector Classification (SVC) finds the best decision boundary between the classification datasets. To illustrate how SVC works, lets imagine an office floor where business areas, A and B, are together in the same floors and for compliance reasons they need to be split with a dry wall (In this case the dry wall is the decision boundary). All employees of A seat together and the same happens with the employees of B, therefore, it seems there is a straight way to put a wall to separate both areas.  What SVC does is to find those desks or those employees that determine the decision boundary in this case the wall. Intuitively, you will find the pairsof employees A and B that are closer to each other, and between them, it is the location where the dry wall separates the two areas. Those employees are going to be the key to figure out where to put the dry wall. In SVC terms those employees are the support vectors. The best location of the dry wall should be equidistant to the key employees A and B, or to put it in other words, SVC maximises the distance between the wall and the pair key employees A and B. \n",
    "\n",
    "\n",
    "There are some cases where the employees A and B are all mixed up and it seems there is not a straight way to split the two teams. Therefore, HR figures it out a map function that relocates the employees in another floor where they can be split in a straight way. That function is called a kernel. There are kernels of different math flavours and some of them can be customised according to the domain of the problem. For instance, HR could find a map function that moves them according to their experience or hierarchy. There are other parameters such as C and gamma that can determine how the model will work. C is like a how tolerant the corporation will be in case of a mismatch and gamma  it is going to determine how many key employees will determine the dry wall. Obviously a strong kernel and a high C and gamma will make the model to split the employees properly. However, those parameters have to be tuned up so the model can generalise in the whole distribution. \n",
    "\n"
   ]
  },
  {
   "cell_type": "markdown",
   "metadata": {},
   "source": [
    "### Implementation: Model Tuning\n",
    "Fine tune the chosen model. Use grid search (`GridSearchCV`) with at least one important parameter tuned with at least 3 different values. You will need to use the entire training set for this. In the code cell below, you will need to implement the following:\n",
    "- Import [`sklearn.grid_search.GridSearchCV`](http://scikit-learn.org/0.17/modules/generated/sklearn.grid_search.GridSearchCV.html) and [`sklearn.metrics.make_scorer`](http://scikit-learn.org/stable/modules/generated/sklearn.metrics.make_scorer.html).\n",
    "- Create a dictionary of parameters you wish to tune for the chosen model.\n",
    " - Example: `parameters = {'parameter' : [list of values]}`.\n",
    "- Initialize the classifier you've chosen and store it in `clf`.\n",
    "- Create the F<sub>1</sub> scoring function using `make_scorer` and store it in `f1_scorer`.\n",
    " - Set the `pos_label` parameter to the correct value!\n",
    "- Perform grid search on the classifier `clf` using `f1_scorer` as the scoring method, and store it in `grid_obj`.\n",
    "- Fit the grid search object to the training data (`X_train`, `y_train`), and store it in `grid_obj`."
   ]
  },
  {
   "cell_type": "code",
   "execution_count": 18,
   "metadata": {},
   "outputs": [
    {
     "name": "stdout",
     "output_type": "stream",
     "text": [
      "These are the parameters of the SVM {'C': 20, 'cache_size': 200, 'class_weight': None, 'coef0': 0.0, 'decision_function_shape': 'ovr', 'degree': 3, 'gamma': 0.00115, 'kernel': 'rbf', 'max_iter': -1, 'probability': False, 'random_state': None, 'shrinking': True, 'tol': 0.001, 'verbose': False}\n",
      "Made predictions in 0.0041 seconds.\n",
      "Tuned model has a training F1 score of 0.8535.\n",
      "Made predictions in 0.0016 seconds.\n",
      "Tuned model has a testing F1 score of 0.7943.\n"
     ]
    }
   ],
   "source": [
    "# TODO: Import 'GridSearchCV' and 'make_scorer'\n",
    "from sklearn.model_selection import GridSearchCV\n",
    "from sklearn.metrics import make_scorer,f1_score\n",
    "from sklearn.model_selection import ShuffleSplit\n",
    "\n",
    "def performance_metric(y_true,y_predict):\n",
    "    return f1_score(y_true,y_predict,pos_label='yes')\n",
    "\n",
    "cv_sets = ShuffleSplit( n_splits = 2, test_size = 0.10, random_state = 0)\n",
    "# TODO: Create the parameters list you wish to tune\n",
    "parameters = [\n",
    "  {'C': [1,5, 10,20,100,200], 'gamma': [0.001,0.00115 ,0.0001,0.00001], 'kernel': ['rbf', 'sigmoid', 'poly']}\n",
    " ]\n",
    "# TODO: Initialize the classifier\n",
    "clf = SVC()\n",
    "\n",
    "# TODO: Make an f1 scoring function using 'make_scorer' \n",
    "f1_scorer = make_scorer(performance_metric)\n",
    "\n",
    "# TODO: Perform grid search on the classifier using the f1_scorer as the scoring method\n",
    "grid_obj = GridSearchCV(clf, parameters,f1_scorer,cv=cv_sets)\n",
    "\n",
    "# TODO: Fit the grid search object to the training data and find the optimal parameters\n",
    "grid_obj = grid_obj.fit(X_train, y_train)\n",
    "\n",
    "# Get the estimator\n",
    "clf = grid_obj.best_estimator_\n",
    "\n",
    "# Report the final F1 score for training and testing after parameter tuning\n",
    "print (\"These are the parameters of the SVM\", clf.get_params())\n",
    "print (\"Tuned model has a training F1 score of {:.4f}.\".format(predict_labels(clf, X_train, y_train)))\n",
    "print (\"Tuned model has a testing F1 score of {:.4f}.\".format(predict_labels(clf, X_test, y_test)))"
   ]
  },
  {
   "cell_type": "markdown",
   "metadata": {},
   "source": [
    "### Question 5 - Final F<sub>1</sub> Score\n",
    "*What is the final model's F<sub>1</sub> score for training and testing? How does that score compare to the untuned model?*"
   ]
  },
  {
   "cell_type": "markdown",
   "metadata": {},
   "source": [
    "**Answer: **\n",
    "The tuned model improved slightly better. On the test set  we achieved a 0.7943 F1 score while on the training set decrease lightly to 0.8535.  \n"
   ]
  },
  {
   "cell_type": "markdown",
   "metadata": {},
   "source": [
    "> **Note**: Once you have completed all of the code implementations and successfully answered each question above, you may finalize your work by exporting the iPython Notebook as an HTML document. You can do this by using the menu above and navigating to  \n",
    "**File -> Download as -> HTML (.html)**. Include the finished document along with this notebook as your submission."
   ]
  }
 ],
 "metadata": {
  "kernelspec": {
   "display_name": "Python 3",
   "language": "python",
   "name": "python3"
  },
  "language_info": {
   "codemirror_mode": {
    "name": "ipython",
    "version": 3
   },
   "file_extension": ".py",
   "mimetype": "text/x-python",
   "name": "python",
   "nbconvert_exporter": "python",
   "pygments_lexer": "ipython3",
   "version": "3.6.1"
  }
 },
 "nbformat": 4,
 "nbformat_minor": 1
}
